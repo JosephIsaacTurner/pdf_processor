{
 "cells": [
  {
   "cell_type": "markdown",
   "metadata": {},
   "source": [
    "## Example Usage\n",
    "\n",
    "Note that this is only able to extract figures from native pdfs, that have machine-readable figures, images, and text elements. There are also scanned pdfs that are essentially concatenated scans of pages, and these will be a lot more difficult to extract figures from. \n",
    "\n",
    "Add the path to your pdf and the path to your output directory. The output directory will be created if it does not exist. \n",
    "\n"
   ]
  },
  {
   "cell_type": "code",
   "execution_count": 2,
   "metadata": {},
   "outputs": [
    {
     "name": "stdout",
     "output_type": "stream",
     "text": [
      "Processing page: 0\n",
      "Attempting to write image to c:\\Users\\josep\\pdf_processor\\output\\image0_765.jpeg\n",
      "Image written successfully: c:\\Users\\josep\\pdf_processor\\output\\image0_765.jpeg, Size: 46765 bytes\n",
      "Attempting to write image to c:\\Users\\josep\\pdf_processor\\output\\image0_766.png\n",
      "Image written successfully: c:\\Users\\josep\\pdf_processor\\output\\image0_766.png, Size: 107775 bytes\n",
      "Attempting to write image to c:\\Users\\josep\\pdf_processor\\output\\image0_767.jpeg\n",
      "Image written successfully: c:\\Users\\josep\\pdf_processor\\output\\image0_767.jpeg, Size: 7476 bytes\n",
      "Processing page: 1\n",
      "Processing page: 2\n",
      "Attempting to write image to c:\\Users\\josep\\pdf_processor\\output\\image2_67.jpeg\n",
      "Image written successfully: c:\\Users\\josep\\pdf_processor\\output\\image2_67.jpeg, Size: 94120 bytes\n",
      "Attempting to write image to c:\\Users\\josep\\pdf_processor\\output\\image2_68.jpeg\n",
      "Image written successfully: c:\\Users\\josep\\pdf_processor\\output\\image2_68.jpeg, Size: 162299 bytes\n",
      "Processing page: 3\n",
      "Attempting to write image to c:\\Users\\josep\\pdf_processor\\output\\image3_86.png\n",
      "Image written successfully: c:\\Users\\josep\\pdf_processor\\output\\image3_86.png, Size: 274707 bytes\n",
      "Processing page: 4\n",
      "Processing page: 5\n",
      "Attempting to write image to c:\\Users\\josep\\pdf_processor\\output\\image5_134.jpeg\n",
      "Image written successfully: c:\\Users\\josep\\pdf_processor\\output\\image5_134.jpeg, Size: 211783 bytes\n",
      "Processing page: 6\n",
      "Attempting to write image to c:\\Users\\josep\\pdf_processor\\output\\image6_157.jpeg\n",
      "Image written successfully: c:\\Users\\josep\\pdf_processor\\output\\image6_157.jpeg, Size: 159688 bytes\n",
      "Attempting to write image to c:\\Users\\josep\\pdf_processor\\output\\image6_158.jpeg\n",
      "Image written successfully: c:\\Users\\josep\\pdf_processor\\output\\image6_158.jpeg, Size: 186161 bytes\n",
      "Processing page: 7\n",
      "Processing page: 8\n",
      "Processing page: 9\n",
      "Processing page: 10\n"
     ]
    }
   ],
   "source": [
    "from scripts.analyze import extract_images_pdfplumber, extract_images_pymupdf\n",
    "\n",
    "pdf_path = \"pdfs/VanHoutte2014.pdf\"\n",
    "\n",
    "output_folder = \"output\"\n",
    "\n",
    "extract_images_pymupdf(pdf_path, output_folder)\n"
   ]
  }
 ],
 "metadata": {
  "kernelspec": {
   "display_name": "pdf_processor",
   "language": "python",
   "name": "python3"
  },
  "language_info": {
   "codemirror_mode": {
    "name": "ipython",
    "version": 3
   },
   "file_extension": ".py",
   "mimetype": "text/x-python",
   "name": "python",
   "nbconvert_exporter": "python",
   "pygments_lexer": "ipython3",
   "version": "3.11.6"
  }
 },
 "nbformat": 4,
 "nbformat_minor": 2
}
