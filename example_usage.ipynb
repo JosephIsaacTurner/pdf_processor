{
 "cells": [
  {
   "cell_type": "markdown",
   "metadata": {},
   "source": [
    "## Example Usage\n",
    "\n",
    "Note that this is only able to extract figures from native pdfs, that have machine-readable figures, images, and text elements. There are also scanned pdfs that are essentially concatenated scans of pages, and these will be a lot more difficult to extract figures from. \n",
    "\n",
    "Add the path to your pdf and the path to your output directory. The output directory will be created if it does not exist. \n",
    "\n"
   ]
  },
  {
   "cell_type": "code",
   "execution_count": null,
   "metadata": {},
   "outputs": [],
   "source": [
    "from tools.analyze import extract_images, extract_text\n",
    "\n",
    "path = 'C:/Users/josep/LesionBankScraper/downloaded_pdfs/10.1080_23279095.2014.940525/Assessment of Topographical Disorientation_ First Application of New Tests and Case Report.pdf'\n",
    "output_folder = \"output\"\n",
    "\n",
    "extract_images(path, output_folder)\n",
    "# Will place all extracted images in output folder\n",
    "\n",
    "extract_text(path, output_folder)\n",
    "# Will create a .txt file with all extracted text in output folder\n"
   ]
  }
 ],
 "metadata": {
  "kernelspec": {
   "display_name": "pdf_processor",
   "language": "python",
   "name": "python3"
  },
  "language_info": {
   "codemirror_mode": {
    "name": "ipython",
    "version": 3
   },
   "file_extension": ".py",
   "mimetype": "text/x-python",
   "name": "python",
   "nbconvert_exporter": "python",
   "pygments_lexer": "ipython3",
   "version": "3.11.5"
  }
 },
 "nbformat": 4,
 "nbformat_minor": 2
}
